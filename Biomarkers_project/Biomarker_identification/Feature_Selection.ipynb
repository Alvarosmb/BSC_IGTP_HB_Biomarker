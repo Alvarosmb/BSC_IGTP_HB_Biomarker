{
 "cells": [
  {
   "cell_type": "code",
   "execution_count": 118,
   "id": "3f6169e3",
   "metadata": {},
   "outputs": [],
   "source": [
    "import pandas as pd\n",
    "import numpy as np\n",
    "import matplotlib.pyplot as plt\n",
    "import seaborn as sns\n",
    "import networkx as nx\n",
    "import scipy\n",
    "from fast_ml.utilities import display_all\n",
    "from fast_ml.feature_selection import get_constant_features\n",
    "from sklearn.preprocessing import StandardScaler\n",
    "from pylab import rcParams\n"
   ]
  },
  {
   "cell_type": "markdown",
   "id": "57bcb1ba",
   "metadata": {},
   "source": [
    "# Data set of NANOSTRING"
   ]
  },
  {
   "cell_type": "code",
   "execution_count": 144,
   "id": "aaf64e52",
   "metadata": {},
   "outputs": [],
   "source": [
    "\n",
    "df = pd.read_csv()\n",
    "columns = df.columns\n",
    "columns = [i.replace(\" \", \"_\") for i in columns]\n",
    "df.columns = columns\n",
    "variables = df.columns.tolist()\n",
    "variables_bx = []\n",
    "var_combs =  []\n",
    "array_split = list(map(lambda x: x.split(\"_\"), variables))\n",
    "for i in range(len(array_split)):\n",
    "    if \"bx\" in array_split[i]:\n",
    "        variables_bx.append(variables[i])\n",
    "        \n",
    "df_top = df[variables_bx].dropna()\n",
    "########## Dataset anonymization ################\n",
    "# Create an empty dictionary to store the original and new column names\n",
    "dict_genes = {}\n",
    "\n",
    "# Iterate over the columns of the DataFrame\n",
    "for i, col in enumerate(df_top.columns):\n",
    "    # Create the new column name as \"BSC_BM\" followed by the index\n",
    "    new_col = f\"BSC_BM{i+1}\"\n",
    "    # Add the original and new column names to the dictionary\n",
    "    dict_genes[col] = new_col\n",
    "    # Rename the column in the DataFrame\n",
    "    df_top.rename(columns={col: new_col}, inplace=True)\n"
   ]
  },
  {
   "cell_type": "markdown",
   "id": "5cadceab",
   "metadata": {},
   "source": [
    "## Features with low variability¶\n",
    "\n"
   ]
  },
  {
   "cell_type": "code",
   "execution_count": 39,
   "id": "9c3fd2cb",
   "metadata": {},
   "outputs": [
    {
     "data": {
      "text/html": [
       "<div>\n",
       "<style scoped>\n",
       "    .dataframe tbody tr th:only-of-type {\n",
       "        vertical-align: middle;\n",
       "    }\n",
       "\n",
       "    .dataframe tbody tr th {\n",
       "        vertical-align: top;\n",
       "    }\n",
       "\n",
       "    .dataframe thead th {\n",
       "        text-align: right;\n",
       "    }\n",
       "</style>\n",
       "<table border=\"1\" class=\"dataframe\">\n",
       "  <thead>\n",
       "    <tr style=\"text-align: right;\">\n",
       "      <th></th>\n",
       "      <th>Desc</th>\n",
       "      <th>Var</th>\n",
       "      <th>Value</th>\n",
       "      <th>Perc</th>\n",
       "    </tr>\n",
       "  </thead>\n",
       "  <tbody>\n",
       "  </tbody>\n",
       "</table>\n",
       "</div>"
      ],
      "text/plain": [
       "Empty DataFrame\n",
       "Columns: [Desc, Var, Value, Perc]\n",
       "Index: []"
      ]
     },
     "metadata": {},
     "output_type": "display_data"
    }
   ],
   "source": [
    "constant_features = get_constant_features(df_nano_bx, threshold=0.85)\n",
    "display_all(constant_features)# All the constant features stored in a list\n"
   ]
  },
  {
   "cell_type": "code",
   "execution_count": 143,
   "id": "3626e37a",
   "metadata": {},
   "outputs": [
    {
     "name": "stdout",
     "output_type": "stream",
     "text": [
      "BSC_BM1    BSC_BM2      0.027214\n",
      "           BSC_BM3      0.087745\n",
      "           BSC_BM4      0.127876\n",
      "           BSC_BM5      0.013259\n",
      "           BSC_BM6      0.179856\n",
      "                          ...   \n",
      "BSC_BM232  BSC_BM227   -0.141446\n",
      "           BSC_BM228    0.134850\n",
      "           BSC_BM229    0.274934\n",
      "           BSC_BM230    0.419729\n",
      "           BSC_BM231    0.815767\n",
      "Length: 53312, dtype: float64\n"
     ]
    }
   ],
   "source": [
    "matrix = df_nano_bx.corr()\n",
    "matrix = matrix.unstack()\n",
    "matrix = matrix[abs(matrix) <= 0.85]\n",
    "\n",
    "print(matrix)"
   ]
  },
  {
   "cell_type": "markdown",
   "id": "8d77d938",
   "metadata": {},
   "source": [
    "## Correlated features"
   ]
  },
  {
   "cell_type": "code",
   "execution_count": 151,
   "id": "b69121a0",
   "metadata": {},
   "outputs": [],
   "source": [
    "\n",
    "df1 = pd.DataFrame()\n",
    "feat1s = []\n",
    "feat2s = []\n",
    "corrs = []\n",
    "p_values = []\n",
    "\n",
    "for feat1 in df_top.columns:\n",
    "    for feat2 in df_top.columns:\n",
    "        if feat1 != feat2:\n",
    "            feat1s.append(feat1)\n",
    "            feat2s.append(feat2)\n",
    "            corr, p_value = scipy.stats.spearmanr(df_top[feat1], df_top[feat2])\n",
    "            corrs.append(corr)\n",
    "            p_values.append(p_value)\n",
    "\n",
    "df1['Feature_1'] = feat1s\n",
    "df1['Feature_2'] = feat2s\n",
    "df1['Correlation'] = corrs\n",
    "df1['p_value'] = p_values\n",
    "\n"
   ]
  },
  {
   "cell_type": "code",
   "execution_count": 157,
   "id": "b46d5d7d",
   "metadata": {},
   "outputs": [
    {
     "data": {
      "image/png": "[encoded data removed]",
      "text/plain": [
       "<Figure size 720x360 with 1 Axes>"
      ]
     },
     "metadata": {},
     "output_type": "display_data"
    }
   ],
   "source": [
    "# Keep only correlation over a threshold and remove self correlation (cor(A,A)=1)\n",
    "links_filtered=df1.loc[ (df1['Correlation'] > 0.95) & (df1['p_value'] < 0.005) & (df1['Feature_1'] != df1['Feature_2']) ]\n",
    "# Build your graph\n",
    "G=nx.from_pandas_edgelist(links_filtered, 'Feature_1', 'Feature_2')\n",
    "rcParams['figure.figsize'] = 10, 5\n",
    "pos = nx.spring_layout(G, scale=5, k=2/np.sqrt(G.order()))\n",
    "d = dict(G.degree)\n",
    "nx.draw(G, pos, node_color='orange', \n",
    "        with_labels=True, \n",
    "        nodelist=d, \n",
    "        node_size=[d[k]*100 for k in d])\n"
   ]
  }
 ],
 "metadata": {
  "kernelspec": {
   "display_name": "Python 3 (ipykernel)",
   "language": "python",
   "name": "python3"
  },
  "language_info": {
   "codemirror_mode": {
    "name": "ipython",
    "version": 3
   },
   "file_extension": ".py",
   "mimetype": "text/x-python",
   "name": "python",
   "nbconvert_exporter": "python",
   "pygments_lexer": "ipython3",
   "version": "3.10.6"
  }
 },
 "nbformat": 4,
 "nbformat_minor": 5
}
